{
  "nbformat": 4,
  "nbformat_minor": 0,
  "metadata": {
    "colab": {
      "private_outputs": true,
      "provenance": []
    },
    "kernelspec": {
      "name": "python3",
      "display_name": "Python 3"
    },
    "language_info": {
      "name": "python"
    }
  },
  "cells": [
    {
      "cell_type": "markdown",
      "source": [],
      "metadata": {
        "id": "TPMwzy-YH81Z"
      }
    },
    {
      "cell_type": "markdown",
      "source": [
        "## Import"
      ],
      "metadata": {
        "id": "KVpHLYfcWr73"
      }
    },
    {
      "cell_type": "code",
      "source": [
        "import os\n",
        "import torch\n",
        "import random\n",
        "\n",
        "import numpy as np\n",
        "import pandas as pd\n",
        "\n",
        "import warnings\n",
        "warnings.filterwarnings(\"ignore\")\n",
        "\n",
        "import matplotlib.pyplot as plt\n",
        "import seaborn as sns"
      ],
      "metadata": {
        "id": "knYyvWVNWtih"
      },
      "execution_count": null,
      "outputs": []
    },
    {
      "cell_type": "code",
      "source": [
        "from sklearn.model_selection import train_test_split, StratifiedKFold, GridSearchCV\n",
        "from sklearn.compose import ColumnTransformer\n",
        "from sklearn.preprocessing import StandardScaler, OneHotEncoder\n",
        "from sklearn.metrics import roc_auc_score, roc_curve"
      ],
      "metadata": {
        "id": "P7QxSQbJkrFS"
      },
      "execution_count": null,
      "outputs": []
    },
    {
      "cell_type": "code",
      "source": [
        "from xgboost import XGBClassifier"
      ],
      "metadata": {
        "id": "0Q9WsMF8W7V3"
      },
      "execution_count": null,
      "outputs": []
    },
    {
      "cell_type": "code",
      "source": [
        "def seed_everything(seed):\n",
        "    random.seed(seed)\n",
        "    os.environ['PYTHONHASHSEED'] = str(seed)\n",
        "    np.random.seed(seed)\n",
        "\n",
        "seed_everything(42) # Seed 고정"
      ],
      "metadata": {
        "id": "NUwvJduHXFGw"
      },
      "execution_count": null,
      "outputs": []
    },
    {
      "cell_type": "code",
      "source": [
        "train_path = '/content/train.csv'\n",
        "test_path = '/content/test.csv'\n",
        "\n",
        "train_df = pd.read_csv(train_path)\n",
        "test_df = pd.read_csv(test_path)\n",
        "\n",
        "submission = pd.DataFrame()\n",
        "submission[\"id\"] = test_df['id']\n",
        "\n",
        "print(train_df.shape)\n",
        "print(test_df.shape)"
      ],
      "metadata": {
        "id": "kpgY3U1iXknF"
      },
      "execution_count": null,
      "outputs": []
    },
    {
      "cell_type": "markdown",
      "source": [
        "## Data"
      ],
      "metadata": {
        "id": "LAKg3N47XgNI"
      }
    },
    {
      "cell_type": "code",
      "source": [
        "class data_processing() :\n",
        "    def __init__(self) :\n",
        "        self.columns_to_drop = ['id']\n",
        "\n",
        "        self.label_idx = ['smoking']\n",
        "        self.test_size = 0.2\n",
        "\n",
        "    def preprocessing(self, data_df) :\n",
        "        data_df = data_df.drop(columns=self.columns_to_drop, axis=1)\n",
        "        # data_df.fillna('NAN', inplace = True)\n",
        "\n",
        "        return data_df\n",
        "\n",
        "    def split_data(self, data_df) :\n",
        "        train_df, val_df = train_test_split(data_df, test_size = self.test_size, random_state = 42)\n",
        "\n",
        "        X_train = train_df.drop(columns=self.label_idx, axis = 1)\n",
        "        y_train = train_df[self.label_idx]\n",
        "\n",
        "        X_val = val_df.drop(columns=self.label_idx, axis = 1)\n",
        "        y_val = val_df[self.label_idx]\n",
        "\n",
        "        return X_train, y_train, X_val, y_val"
      ],
      "metadata": {
        "id": "-E4uKXvuaWd9"
      },
      "execution_count": null,
      "outputs": []
    },
    {
      "cell_type": "code",
      "source": [
        "df = data_processing()\n",
        "\n",
        "train_df = df.preprocessing(train_df)\n",
        "test_df = df.preprocessing(test_df)\n",
        "\n",
        "X_train, y_train, X_val, y_val = df.split_data(train_df)"
      ],
      "metadata": {
        "id": "SuUY94i9aXs_"
      },
      "execution_count": null,
      "outputs": []
    },
    {
      "cell_type": "code",
      "source": [
        "print(\"train_df : \", train_df.shape)\n",
        "print(\"test_df : \", test_df.shape)\n",
        "\n",
        "print(\"X_train : \", X_train.shape)\n",
        "print(\"y_train : \", y_train.shape)\n",
        "print(\"X_val : \", X_val.shape)\n",
        "print(\"y_val : \", y_val.shape)"
      ],
      "metadata": {
        "id": "GgbUcrfhanSh"
      },
      "execution_count": null,
      "outputs": []
    },
    {
      "cell_type": "markdown",
      "source": [
        "## Model"
      ],
      "metadata": {
        "id": "fbpum37obXOQ"
      }
    },
    {
      "cell_type": "code",
      "source": [
        "xgbmodel = XGBClassifier(random_state = 42,\n",
        "                        learning_rate = 0.1,\n",
        "                        n_estimators = 100,\n",
        "                        objective=\"binary:logistic\")"
      ],
      "metadata": {
        "id": "T3tFspy5bZJp"
      },
      "execution_count": null,
      "outputs": []
    },
    {
      "cell_type": "markdown",
      "source": [
        "## Train & Validation"
      ],
      "metadata": {
        "id": "jkFMUwBjsXjK"
      }
    },
    {
      "cell_type": "code",
      "source": [
        "xgbmodel.fit(X_train, y_train)"
      ],
      "metadata": {
        "id": "8zBy2LckL0_I"
      },
      "execution_count": null,
      "outputs": []
    },
    {
      "cell_type": "code",
      "source": [
        "def validation(model, X, y) :\n",
        "    pred = model.predict_proba(X)[:, 1]\n",
        "\n",
        "    auc = roc_auc_score(y, pred)\n",
        "    print(f\"AUC: {auc:.4f}\")\n",
        "    print(\"\\n\")\n",
        "\n",
        "    fpr, tpr, thresholds = roc_curve(y, pred)\n",
        "\n",
        "    plt.figure(figsize=(10, 7))\n",
        "    plt.plot(fpr, tpr, label=f'AUC = {auc:.2f}')\n",
        "    plt.plot([0, 1], [0, 1], 'r--')\n",
        "    plt.xlabel('False Positive Rate (FPR)', fontsize=12)\n",
        "    plt.ylabel('True Positive Rate (TPR)', fontsize=12)\n",
        "    plt.title('ROC Curve', fontsize=15)\n",
        "    plt.legend(loc='lower right')\n",
        "    plt.grid(True)\n",
        "    plt.show()\n",
        "\n",
        "validation(xgbmodel, X_val, y_val)"
      ],
      "metadata": {
        "id": "sf4yjG1COFvT"
      },
      "execution_count": null,
      "outputs": []
    },
    {
      "cell_type": "markdown",
      "source": [
        "## Submission"
      ],
      "metadata": {
        "id": "6ShEiEYUb05j"
      }
    },
    {
      "cell_type": "code",
      "source": [
        "pred = xgbmodel.predict_proba(test_df)[:,1]"
      ],
      "metadata": {
        "id": "YR-5IqXBPkHc"
      },
      "execution_count": null,
      "outputs": []
    },
    {
      "cell_type": "code",
      "source": [
        "submission[\"smoking\"] = pred\n",
        "submission.to_csv(\"submission.csv\",header=True,index=False)"
      ],
      "metadata": {
        "id": "J7Z-FafyP6LT"
      },
      "execution_count": null,
      "outputs": []
    }
  ]
}